{
 "cells": [
  {
   "cell_type": "code",
   "execution_count": null,
   "metadata": {},
   "outputs": [],
   "source": [
    "#variables done\n",
    "#comments done\n",
    "#keywords tokens done\n",
    "#Integers and decimals implementations\n",
    "#error\n"
   ]
  },
  {
   "cell_type": "code",
   "execution_count": null,
   "metadata": {},
   "outputs": [],
   "source": [
    "while True:\n",
    "    text=input('H_COMPILER >')\n",
    "    print(text)"
   ]
  },
  {
   "cell_type": "code",
   "execution_count": 1,
   "metadata": {},
   "outputs": [],
   "source": [
    "keywords={\"बंद\":{\"Token\":\"T_BREAK\",\"Val\":None},\"संख्या\":{\"Token\":\"T_FLOAT\",\"Val\":None},\"मामला\":{\"Token\":\"T_CASE\",\"Val\":None} ,\"अक्षर\":{\"Token\":\"T_CHAR\",\"Val\":None},\"अगर\":{\"Token\":\"T_IF\",\"Val\":None},\"अन्य\":{\"Token\":\"T_ELSE\",\"Val\":None},\"पूर्णांक\":{\"Token\":\"T_INT\",\"Val\":None}}\n",
    "arithmetic_op={\"+\":{\"Token\":\"T_PLUS\",\"Val\":None},\"-\":{\"Token\":\"T_SUB\",\"Val\":None},\"*\":{\"Token\":\"T_MUL\",\"Val\":None},\"/\":{\"Token\":\"T_DIV\",\"Val\":None},\"&\":{\"Token\":\"T_AND\",\"Val\":None},\"|\":{\"Token\":\"T_OR\",\"Val\":None},\"^\":{\"Token\":\"T_XOR\",\"Val\":None}}\n",
    "relational_op={\"<\":{\"Token\":\"T_LESS\",\"Val\":None},\">\":{\"Token\":\"T_MORE\",\"Val\":None},\"=\":{\"Token\":\"T_EQ\",\"Val\":None},\"<=\":{\"Token\":\"T_LESS_EQ\",\"Val\":None},\">=\":{\"Token\":\"T_MORE_EQ\",\"Val\":None},\"==\":{\"Token\":\"T_EQ_EQ\",\"Val\":None}}\n",
    "special_sym={\";\":{\"Token\":\";\",\"Val\":None},\",\":{\"Token\":\",\",\"Val\":None}}\n",
    "var={}\n"
   ]
  },
  {
   "cell_type": "code",
   "execution_count": 7,
   "metadata": {},
   "outputs": [
    {
     "data": {
      "text/plain": [
       "['//Hello', 'my', 'name', 'is', 'jhn', 'is', 'john', 'dab']"
      ]
     },
     "execution_count": 7,
     "metadata": {},
     "output_type": "execute_result"
    }
   ],
   "source": []
  },
  {
   "cell_type": "code",
   "execution_count": 2,
   "metadata": {},
   "outputs": [
    {
     "ename": "IndentationError",
     "evalue": "expected an indented block (<ipython-input-2-c6388d18f2ab>, line 15)",
     "output_type": "error",
     "traceback": [
      "\u001b[1;36m  File \u001b[1;32m\"<ipython-input-2-c6388d18f2ab>\"\u001b[1;36m, line \u001b[1;32m15\u001b[0m\n\u001b[1;33m    else is_comment(key):\u001b[0m\n\u001b[1;37m    ^\u001b[0m\n\u001b[1;31mIndentationError\u001b[0m\u001b[1;31m:\u001b[0m expected an indented block\n"
     ]
    }
   ],
   "source": []
  },
  {
   "cell_type": "code",
   "execution_count": null,
   "metadata": {},
   "outputs": [],
   "source": []
  }
 ],
 "metadata": {
  "kernelspec": {
   "display_name": "Python 3",
   "language": "python",
   "name": "python3"
  },
  "language_info": {
   "codemirror_mode": {
    "name": "ipython",
    "version": 3
   },
   "file_extension": ".py",
   "mimetype": "text/x-python",
   "name": "python",
   "nbconvert_exporter": "python",
   "pygments_lexer": "ipython3",
   "version": "3.9.0"
  }
 },
 "nbformat": 4,
 "nbformat_minor": 4
}
